{
 "cells": [
  {
   "cell_type": "raw",
   "id": "2eb9c287-2480-444a-8456-81975f1b6379",
   "metadata": {},
   "source": [
    " Import Libraries and Download NLTK Data"
   ]
  },
  {
   "cell_type": "code",
   "execution_count": 1,
   "id": "ea27595c-074b-442c-a89f-631a6525fdcf",
   "metadata": {},
   "outputs": [
    {
     "name": "stderr",
     "output_type": "stream",
     "text": [
      "[nltk_data] Downloading package punkt to\n",
      "[nltk_data]     C:\\Users\\ROG\\AppData\\Roaming\\nltk_data...\n",
      "[nltk_data]   Package punkt is already up-to-date!\n",
      "[nltk_data] Downloading package stopwords to\n",
      "[nltk_data]     C:\\Users\\ROG\\AppData\\Roaming\\nltk_data...\n",
      "[nltk_data]   Package stopwords is already up-to-date!\n"
     ]
    },
    {
     "data": {
      "text/plain": [
       "True"
      ]
     },
     "execution_count": 1,
     "metadata": {},
     "output_type": "execute_result"
    }
   ],
   "source": [
    "import pandas as pd\n",
    "from sklearn.feature_extraction.text import TfidfVectorizer\n",
    "from sklearn.neighbors import NearestNeighbors\n",
    "import nltk\n",
    "from nltk.corpus import stopwords\n",
    "from nltk.tokenize import word_tokenize\n",
    "import string\n",
    "import matplotlib.pyplot as plt\n",
    "import seaborn as sns\n",
    "\n",
    "# Download NLTK data\n",
    "nltk.download('punkt')\n",
    "nltk.download('stopwords')\n"
   ]
  },
  {
   "cell_type": "code",
   "execution_count": 3,
   "id": "b6b8caa3-a39b-4062-8157-02a328a1ea83",
   "metadata": {},
   "outputs": [],
   "source": [
    "# Load user data from CSV\n",
    "user_data = pd.read_csv('C:\\\\Users\\\\ROG\\\\OneDrive\\\\Desktop\\\\Root\\\\ML\\\\user_data.csv')\n",
    "places_data = pd.read_csv('C:\\\\Users\\\\ROG\\\\OneDrive\\\\Desktop\\\\Root\\\\ML\\\\places_data.csv')\n"
   ]
  },
  {
   "cell_type": "raw",
   "id": "a7c4e5a8-62c7-4fe6-b743-e46f2c1f1608",
   "metadata": {},
   "source": [
    "Text Preprocessing Function"
   ]
  },
  {
   "cell_type": "code",
   "execution_count": 5,
   "id": "34963bb3-d1e9-442d-9df2-8183aead1677",
   "metadata": {},
   "outputs": [],
   "source": [
    "# NLP Preprocessing function\n",
    "def preprocess_text(text):\n",
    "    # Lowercase the text\n",
    "    text = text.lower()\n",
    "    \n",
    "    # Remove punctuation\n",
    "    text = text.translate(str.maketrans('', '', string.punctuation))\n",
    "    \n",
    "    # Tokenize text\n",
    "    words = word_tokenize(text)\n",
    "    \n",
    "    # Remove stopwords\n",
    "    stop_words = set(stopwords.words('english'))\n",
    "    filtered_words = [word for word in words if word not in stop_words]\n",
    "    \n",
    "    return ' '.join(filtered_words)\n"
   ]
  },
  {
   "cell_type": "raw",
   "id": "2f7709a3-2086-4edc-bc58-7558904eaa5a",
   "metadata": {},
   "source": [
    "Preprocess the Text Data in Both Datasets"
   ]
  },
  {
   "cell_type": "code",
   "execution_count": 6,
   "id": "4f351452-55cc-40b8-a71c-60c4240af9a7",
   "metadata": {},
   "outputs": [],
   "source": [
    "# Apply preprocessing to the activities and reviews in both datasets\n",
    "user_data['Preferred Activities'] = user_data['Preferred Activities'].apply(preprocess_text)\n",
    "places_data['latest_reviews'] = places_data['latest_reviews'].apply(preprocess_text)\n",
    "\n",
    "# Combine the 'latest_reviews' column for better representation of the place description\n",
    "places_data['Place Description'] = places_data['latest_reviews']\n"
   ]
  },
  {
   "cell_type": "raw",
   "id": "b9cffaff-f55d-4cd8-9643-fd688a434e8d",
   "metadata": {},
   "source": [
    "Vectorization using TF-IDF"
   ]
  },
  {
   "cell_type": "code",
   "execution_count": 7,
   "id": "a0329217-1fbd-4f27-84e7-4445b8f45ac7",
   "metadata": {},
   "outputs": [],
   "source": [
    "# Vectorize the text using TF-IDF (Text Frequency - Inverse Document Frequency)\n",
    "vectorizer = TfidfVectorizer()\n",
    "\n",
    "# Combine all user activities and place descriptions into a single text corpus for vectorization\n",
    "combined_text = pd.concat([user_data['Preferred Activities'], places_data['Place Description']])\n",
    "tfidf_matrix = vectorizer.fit_transform(combined_text)\n",
    "\n",
    "# Split the matrix back into user and place matrices\n",
    "user_tfidf = tfidf_matrix[:len(user_data)]\n",
    "place_tfidf = tfidf_matrix[len(user_data):]\n"
   ]
  },
  {
   "cell_type": "raw",
   "id": "7fb397a9-c380-4662-bb2e-ed60ae9fd6f3",
   "metadata": {},
   "source": [
    "Build the KNN Model"
   ]
  },
  {
   "cell_type": "code",
   "execution_count": 8,
   "id": "fc65e0d0-46d5-4a36-b4da-cc1f9ff4460d",
   "metadata": {},
   "outputs": [
    {
     "data": {
      "text/html": [
       "<style>#sk-container-id-1 {color: black;background-color: white;}#sk-container-id-1 pre{padding: 0;}#sk-container-id-1 div.sk-toggleable {background-color: white;}#sk-container-id-1 label.sk-toggleable__label {cursor: pointer;display: block;width: 100%;margin-bottom: 0;padding: 0.3em;box-sizing: border-box;text-align: center;}#sk-container-id-1 label.sk-toggleable__label-arrow:before {content: \"▸\";float: left;margin-right: 0.25em;color: #696969;}#sk-container-id-1 label.sk-toggleable__label-arrow:hover:before {color: black;}#sk-container-id-1 div.sk-estimator:hover label.sk-toggleable__label-arrow:before {color: black;}#sk-container-id-1 div.sk-toggleable__content {max-height: 0;max-width: 0;overflow: hidden;text-align: left;background-color: #f0f8ff;}#sk-container-id-1 div.sk-toggleable__content pre {margin: 0.2em;color: black;border-radius: 0.25em;background-color: #f0f8ff;}#sk-container-id-1 input.sk-toggleable__control:checked~div.sk-toggleable__content {max-height: 200px;max-width: 100%;overflow: auto;}#sk-container-id-1 input.sk-toggleable__control:checked~label.sk-toggleable__label-arrow:before {content: \"▾\";}#sk-container-id-1 div.sk-estimator input.sk-toggleable__control:checked~label.sk-toggleable__label {background-color: #d4ebff;}#sk-container-id-1 div.sk-label input.sk-toggleable__control:checked~label.sk-toggleable__label {background-color: #d4ebff;}#sk-container-id-1 input.sk-hidden--visually {border: 0;clip: rect(1px 1px 1px 1px);clip: rect(1px, 1px, 1px, 1px);height: 1px;margin: -1px;overflow: hidden;padding: 0;position: absolute;width: 1px;}#sk-container-id-1 div.sk-estimator {font-family: monospace;background-color: #f0f8ff;border: 1px dotted black;border-radius: 0.25em;box-sizing: border-box;margin-bottom: 0.5em;}#sk-container-id-1 div.sk-estimator:hover {background-color: #d4ebff;}#sk-container-id-1 div.sk-parallel-item::after {content: \"\";width: 100%;border-bottom: 1px solid gray;flex-grow: 1;}#sk-container-id-1 div.sk-label:hover label.sk-toggleable__label {background-color: #d4ebff;}#sk-container-id-1 div.sk-serial::before {content: \"\";position: absolute;border-left: 1px solid gray;box-sizing: border-box;top: 0;bottom: 0;left: 50%;z-index: 0;}#sk-container-id-1 div.sk-serial {display: flex;flex-direction: column;align-items: center;background-color: white;padding-right: 0.2em;padding-left: 0.2em;position: relative;}#sk-container-id-1 div.sk-item {position: relative;z-index: 1;}#sk-container-id-1 div.sk-parallel {display: flex;align-items: stretch;justify-content: center;background-color: white;position: relative;}#sk-container-id-1 div.sk-item::before, #sk-container-id-1 div.sk-parallel-item::before {content: \"\";position: absolute;border-left: 1px solid gray;box-sizing: border-box;top: 0;bottom: 0;left: 50%;z-index: -1;}#sk-container-id-1 div.sk-parallel-item {display: flex;flex-direction: column;z-index: 1;position: relative;background-color: white;}#sk-container-id-1 div.sk-parallel-item:first-child::after {align-self: flex-end;width: 50%;}#sk-container-id-1 div.sk-parallel-item:last-child::after {align-self: flex-start;width: 50%;}#sk-container-id-1 div.sk-parallel-item:only-child::after {width: 0;}#sk-container-id-1 div.sk-dashed-wrapped {border: 1px dashed gray;margin: 0 0.4em 0.5em 0.4em;box-sizing: border-box;padding-bottom: 0.4em;background-color: white;}#sk-container-id-1 div.sk-label label {font-family: monospace;font-weight: bold;display: inline-block;line-height: 1.2em;}#sk-container-id-1 div.sk-label-container {text-align: center;}#sk-container-id-1 div.sk-container {/* jupyter's `normalize.less` sets `[hidden] { display: none; }` but bootstrap.min.css set `[hidden] { display: none !important; }` so we also need the `!important` here to be able to override the default hidden behavior on the sphinx rendered scikit-learn.org. See: https://github.com/scikit-learn/scikit-learn/issues/21755 */display: inline-block !important;position: relative;}#sk-container-id-1 div.sk-text-repr-fallback {display: none;}</style><div id=\"sk-container-id-1\" class=\"sk-top-container\"><div class=\"sk-text-repr-fallback\"><pre>NearestNeighbors(metric=&#x27;cosine&#x27;)</pre><b>In a Jupyter environment, please rerun this cell to show the HTML representation or trust the notebook. <br />On GitHub, the HTML representation is unable to render, please try loading this page with nbviewer.org.</b></div><div class=\"sk-container\" hidden><div class=\"sk-item\"><div class=\"sk-estimator sk-toggleable\"><input class=\"sk-toggleable__control sk-hidden--visually\" id=\"sk-estimator-id-1\" type=\"checkbox\" checked><label for=\"sk-estimator-id-1\" class=\"sk-toggleable__label sk-toggleable__label-arrow\">NearestNeighbors</label><div class=\"sk-toggleable__content\"><pre>NearestNeighbors(metric=&#x27;cosine&#x27;)</pre></div></div></div></div></div>"
      ],
      "text/plain": [
       "NearestNeighbors(metric='cosine')"
      ]
     },
     "execution_count": 8,
     "metadata": {},
     "output_type": "execute_result"
    }
   ],
   "source": [
    "# Build the KNN Model\n",
    "knn = NearestNeighbors(n_neighbors=5, metric='cosine')\n",
    "knn.fit(place_tfidf)\n"
   ]
  },
  {
   "cell_type": "raw",
   "id": "b0ae32c8-2734-4970-ac3c-ea594a6dc1d2",
   "metadata": {},
   "source": [
    "Define the Recommendation Function"
   ]
  },
  {
   "cell_type": "code",
   "execution_count": 9,
   "id": "00544ca9-16e3-4494-ba8b-b69847cc9733",
   "metadata": {},
   "outputs": [],
   "source": [
    "# Function to recommend places for a given user\n",
    "def recommend_places(user_index, knn_model, user_tfidf, place_data):\n",
    "    # Find the top 5 nearest places for the given user index\n",
    "    distances, indices = knn_model.kneighbors(user_tfidf[user_index], n_neighbors=5)\n",
    "    \n",
    "    # Get the recommended places\n",
    "    recommendations = place_data.iloc[indices[0]]\n",
    "    return recommendations\n"
   ]
  },
  {
   "cell_type": "raw",
   "id": "cc4762bc-7f71-43de-a78e-83076983b471",
   "metadata": {},
   "source": [
    "Define the Evaluation Function"
   ]
  },
  {
   "cell_type": "code",
   "execution_count": 10,
   "id": "88e12b23-2fba-44c3-accd-8e8275cbf898",
   "metadata": {},
   "outputs": [],
   "source": [
    "# Function to evaluate the recommendation system\n",
    "def evaluate_recommendations(user_index, knn_model, user_tfidf, place_data, rating_threshold=4.0):\n",
    "    # Get the recommended places\n",
    "    recommended_places = recommend_places(user_index, knn_model, user_tfidf, place_data)\n",
    "    \n",
    "    # Determine relevant places (places with rating above the threshold)\n",
    "    relevant_places = place_data[place_data['rating'] > rating_threshold]\n",
    "    \n",
    "    # Calculate Precision, Recall, and F1-Score\n",
    "    recommended_relevant = recommended_places[recommended_places['rating'] > rating_threshold]\n",
    "    precision = len(recommended_relevant) / len(recommended_places)\n",
    "    recall = len(recommended_relevant) / len(relevant_places)\n",
    "    f1_score = 2 * (precision * recall) / (precision + recall) if (precision + recall) > 0 else 0\n",
    "    \n",
    "    # Calculate confusion matrix\n",
    "    tp = len(recommended_relevant)\n",
    "    fp = len(recommended_places) - tp\n",
    "    fn = len(relevant_places) - tp\n",
    "    tn = len(place_data) - (tp + fp + fn)\n",
    "    \n",
    "    confusion_matrix = {\n",
    "        'TP': tp,\n",
    "        'FP': fp,\n",
    "        'FN': fn,\n",
    "        'TN': tn\n",
    "    }\n",
    "    \n",
    "    return precision, recall, f1_score, confusion_matrix\n"
   ]
  },
  {
   "cell_type": "raw",
   "id": "aac543c7-b209-4b82-9551-a9051c78fb2b",
   "metadata": {},
   "source": [
    "Plot Confusion Matrix Function"
   ]
  },
  {
   "cell_type": "code",
   "execution_count": 12,
   "id": "5de83370-ced4-4b26-a83a-18fd0efea3ae",
   "metadata": {},
   "outputs": [],
   "source": [
    "# Function to plot the confusion matrix\n",
    "def plot_confusion_matrix(confusion_matrix):\n",
    "    matrix = [\n",
    "        [confusion_matrix['TP'], confusion_matrix['FP']],\n",
    "        [confusion_matrix['FN'], confusion_matrix['TN']]\n",
    "    ]\n",
    "    labels = ['Recommended & Relevant', 'Recommended & Not Relevant', 'Not Recommended & Relevant', 'Not Recommended & Not Relevant']\n",
    "    sns.heatmap(matrix, annot=True, fmt='d', cmap='Blues', xticklabels=['Relevant', 'Not Relevant'], yticklabels=['Recommended', 'Not Recommended'])\n",
    "    plt.title('Confusion Matrix')\n",
    "    plt.xlabel('Actual')\n",
    "    plt.ylabel('Predicted')\n",
    "    plt.show()\n"
   ]
  },
  {
   "cell_type": "raw",
   "id": "123cb79d-90b3-41fa-bec9-eca45db2beb4",
   "metadata": {},
   "source": [
    "Evaluate Recommendations and Display"
   ]
  },
  {
   "cell_type": "code",
   "execution_count": 13,
   "id": "8cdba91e-997a-45c2-a279-f31a50b9f3bb",
   "metadata": {},
   "outputs": [
    {
     "name": "stdout",
     "output_type": "stream",
     "text": [
      "Evaluation Metrics for Jennifer Quinn:\n",
      "Precision: 0.4\n",
      "Recall: 0.006230529595015576\n",
      "F1-Score: 0.012269938650306749\n",
      "Confusion Matrix: {'TP': 2, 'FP': 3, 'FN': 319, 'TN': 87}\n"
     ]
    },
    {
     "data": {
      "image/png": "[encoded data removed]",
      "text/plain": [
       "<Figure size 640x480 with 2 Axes>"
      ]
     },
     "metadata": {},
     "output_type": "display_data"
    }
   ],
   "source": [
    "# Example: Evaluate recommendations for the first user (Jennifer Quinn)\n",
    "precision, recall, f1_score, confusion_matrix = evaluate_recommendations(0, knn, user_tfidf, places_data)\n",
    "print(f\"Evaluation Metrics for {user_data.iloc[0]['Name']}:\\nPrecision: {precision}\\nRecall: {recall}\\nF1-Score: {f1_score}\")\n",
    "print(f\"Confusion Matrix: {confusion_matrix}\")\n",
    "\n",
    "# Plot the confusion matrix\n",
    "plot_confusion_matrix(confusion_matrix)\n"
   ]
  },
  {
   "cell_type": "code",
   "execution_count": null,
   "id": "8893623f-45fa-4cfa-909b-ec76e5db6611",
   "metadata": {},
   "outputs": [],
   "source": [
    "Get Recommendations for a Specific User"
   ]
  },
  {
   "cell_type": "code",
   "execution_count": null,
   "id": "e6d144fd-0435-4ab3-a237-700239a47a6d",
   "metadata": {},
   "outputs": [],
   "source": [
    "# Example: Recommend places for the first user (Jennifer Quinn)\n",
    "recommended_places = recommend_places(0, knn, user_tfidf, places_data)\n",
    "print(f\"Top 5 recommendations for {user_data.iloc[0]['Name']}:\\n\", recommended_places[['name', 'rating', 'latest_reviews']])\n"
   ]
  },
  {
   "cell_type": "code",
   "execution_count": null,
   "id": "85bb7e67-5da7-4bcc-aa77-196bed443014",
   "metadata": {},
   "outputs": [],
   "source": []
  },
  {
   "cell_type": "code",
   "execution_count": null,
   "id": "33dc5e1c-35e5-452e-a86e-3c4ccd40c035",
   "metadata": {},
   "outputs": [],
   "source": []
  }
 ],
 "metadata": {
  "kernelspec": {
   "display_name": "Python 3 (ipykernel)",
   "language": "python",
   "name": "python3"
  },
  "language_info": {
   "codemirror_mode": {
    "name": "ipython",
    "version": 3
   },
   "file_extension": ".py",
   "mimetype": "text/x-python",
   "name": "python",
   "nbconvert_exporter": "python",
   "pygments_lexer": "ipython3",
   "version": "3.11.7"
  }
 },
 "nbformat": 4,
 "nbformat_minor": 5
}
